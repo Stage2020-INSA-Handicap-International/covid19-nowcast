{
 "cells": [
  {
   "cell_type": "code",
   "execution_count": null,
   "metadata": {},
   "outputs": [],
   "source": [
    "import pandas as pd"
   ]
  },
  {
   "cell_type": "code",
   "execution_count": null,
   "metadata": {},
   "outputs": [],
   "source": [
    "tweets=None\n",
    "with open(\"../Datasets/newTruth_testSet.csv\",\"r\") as file:\n",
    "    tweets = pd.read_csv(file, header=None, names=[\"tweet\", \"POS\", \"language\", \"val\", \"class\"])\n",
    "    print(tweets)\n",
    "with open(\"../Datasets/newTruth_trainingSet.csv\",\"r\") as file:\n",
    "    tweets = pd.concat([pd.read_csv(file, header=None, names=[\"tweet\", \"POS\", \"language\", \"val\", \"class\"]),tweets])\n",
    "    print(tweets)"
   ]
  },
  {
   "cell_type": "code",
   "execution_count": null,
   "metadata": {},
   "outputs": [],
   "source": [
    "tweets.columns= [\"id\", \"labels\", \"tweets\"]"
   ]
  },
  {
   "cell_type": "code",
   "execution_count": null,
   "metadata": {},
   "outputs": [],
   "source": [
    "tweets=tweets.where(tweets.language==\"en_UK\").dropna()"
   ]
  },
  {
   "cell_type": "code",
   "execution_count": null,
   "metadata": {},
   "outputs": [],
   "source": [
    "tweet_text, labels=[tweet for tweet in tweets[\"tweet\"]],[la for la in tweets[\"class\"]]\n",
    "data={\"tweets\":tweet_text,\"labels\":labels}"
   ]
  },
  {
   "cell_type": "code",
   "execution_count": null,
   "metadata": {},
   "outputs": [],
   "source": [
    "with open(\"../Datasets/corpus.json\",\"w\") as file:\n",
    "    json.dump(data, file)"
   ]
  },
  {
   "cell_type": "code",
   "execution_count": null,
   "metadata": {},
   "outputs": [],
   "source": [
    "with open(\"../Datasets/corpus.json\",\"w\") as file:\n",
    "    tweets[[\"tweet\", \"label\"]].to_json(file, orient=\"records\")"
   ]
  },
  {
   "cell_type": "code",
   "execution_count": 3,
   "metadata": {},
   "outputs": [],
   "source": [
    "import json"
   ]
  },
  {
   "cell_type": "code",
   "execution_count": null,
   "metadata": {},
   "outputs": [],
   "source": [
    "data=[]\n",
    "with open(\"../Datasets/corpus.json\",\"r\") as file:\n",
    "    data=json.load(file)\n",
    "print(data[:10])"
   ]
  },
  {
   "cell_type": "code",
   "execution_count": null,
   "metadata": {},
   "outputs": [],
   "source": [
    "from covid19_nowcast.streaming.preparation.preprocessor import Preprocessor"
   ]
  },
  {
   "cell_type": "code",
   "execution_count": null,
   "metadata": {},
   "outputs": [],
   "source": [
    "tweets=[elem[\"tweet\"] for elem in data]"
   ]
  },
  {
   "cell_type": "code",
   "execution_count": null,
   "metadata": {},
   "outputs": [],
   "source": [
    "print(tweets[:10])"
   ]
  },
  {
   "cell_type": "code",
   "execution_count": null,
   "metadata": {},
   "outputs": [],
   "source": [
    "%time bow_tweets=Preprocessor.preprocess(tweets)"
   ]
  },
  {
   "cell_type": "code",
   "execution_count": null,
   "metadata": {},
   "outputs": [],
   "source": [
    "print(bow_tweets)"
   ]
  },
  {
   "cell_type": "code",
   "execution_count": null,
   "metadata": {},
   "outputs": [],
   "source": [
    "for index, tweet in enumerate(bow_tweets[\"preprocessed_tweets\"]):\n",
    "    data[index][\"tweet\"]=tweet"
   ]
  },
  {
   "cell_type": "code",
   "execution_count": null,
   "metadata": {},
   "outputs": [],
   "source": [
    "print(data[:10])"
   ]
  },
  {
   "cell_type": "code",
   "execution_count": null,
   "metadata": {},
   "outputs": [],
   "source": [
    "for tweet in data:\n",
    "    tweet[\"tweet\"]={word:True for word in tweet[\"tweet\"]}\n",
    "print(data[:5])"
   ]
  },
  {
   "cell_type": "code",
   "execution_count": null,
   "metadata": {},
   "outputs": [],
   "source": [
    "with open(\"../Datasets/corpus.txt\",\"w\") as file:\n",
    "    file.write(str([(elem[\"tweet\"], elem[\"label\"]) for elem in data]))"
   ]
  },
  {
   "cell_type": "code",
   "execution_count": null,
   "metadata": {},
   "outputs": [],
   "source": [
    "with open(\"../Datasets/corpus.json\",\"r\") as file:\n",
    "    tweets_labels=json.load(file)"
   ]
  },
  {
   "cell_type": "code",
   "execution_count": null,
   "metadata": {},
   "outputs": [],
   "source": [
    "date_l=[{\"tweet\":tweets_labels[\"tweets\"][index],\"label\":tweets_labels[\"labels\"][index]}for index, tweet in enumerate(tweets_labels[\"tweets\"])]"
   ]
  },
  {
   "cell_type": "code",
   "execution_count": null,
   "metadata": {},
   "outputs": [],
   "source": [
    "for tweet in date_l:\n",
    "    print(tweet)"
   ]
  },
  {
   "cell_type": "code",
   "execution_count": 8,
   "metadata": {},
   "outputs": [
    {
     "name": "stdout",
     "output_type": "stream",
     "text": [
      "Why are Africa's success stories in managing Covid being overlooked? Incl #Senegal $1 test, #Ghana 's innovative testing, & #Madagascar early signs of of a treatment. I have some thoughts. My column in today's @guardian theguardian.com/commentisfree/… 0\n",
      "#Senegal unilaterally ended its double non-taxation treaty with Mauritius without fanfare. It had previously threatened to cancel the treaty if certain conditions were not met. | @allafricaallafrica.com/view/group/mai… 1\n",
      "How’s the week treating you? For Mouhamadou of #Senegal, it just got a little bit better. With help from ChildFund, their families were able to buy food and other essentials they need to survive #COVID19. pic.twitter.com/hluf7ic7A1 pic.twitter.com/PrvenMdju6 0\n",
      "For Mouhamadou of #Senegal, life just got a little bit better. pic.twitter.com/hluf7ic7A1 pic.twitter.com/PrvenMdju6 pic.twitter.com/GD2aHsIC2H 0\n",
      "Can an African team win the World Cup in the next 10 years? Catch our latest episode at the Banter Pub FC anchor.fm/thebanterpubfc… #nigeria #Algeria #senegal pic.twitter.com/sMsCwFqcdr 0\n",
      "Market Update: Prices of #tomatoes are rising across #Nigeria due to shortages caused by the Tuta Absoluta pest outbreak, which destroyed tomatoes in the Northern region of the country. The outbreak was first reported in #Niger and #Senegal. pic.twitter.com/RaBawSDtSi 1\n",
      "RAMADAN MUBARAK (again)May your homes and hearts be filled with joyful spirit of Eid. Laugh, Live, LoveWomen mosquee series#senegal #beautiful #mosquee #eidmubarak2020 #streetphotography #canon pic.twitter.com/JgPCqBUyNJ 1\n",
      "Do you need the perfect one week agenda for #Senegal? Check out this overview. buff.ly/3bpeOBC pic.twitter.com/cY1PKvtPXP 0\n",
      "IMF and World Bank provides fiscal support  to #Senegal to fight #COVID-19. Read more: ow.ly/oNtH30qIliT 0\n",
      "Let's see who can answer this correctly. Which of these is a language most widely spoken in #Senegal ? 🇸🇳A: WolofB: AfrikaansC: Swahili#DHLDelivers #QuickQuiz #WeKnowAfrica #WestAfrica pic.twitter.com/MrQDmHqw2l 0\n",
      "#Senegal Health ministry Covid19 update 28May 95 out of 991 tests: 86 contact, 9 community cases.100 recovered 💪🏿Overall 🇸🇳 Total positive 3348Total recovered 1686 ⬆️50.36%Total under treatment 1622 inclu 19 at ICUTotal dead 39Total evacuated 1Graph: @dofbi#Covid19sn pic.twitter.com/KmcDfz68aR 1\n",
      "Everytime I plant a seed,he say kill it before it grow, he say kill it before they grow. #senegal #male pic.twitter.com/8hDuuP1jzt 0\n",
      "“#RenewableEnergy in the past 20 years has been developing very strongly, now it is very competitive when it comes to pricing” -#MassaerCisse, General Manager, #LekelaPower #Senegalaopwebinars.com #AOPWebinars #RenewableEnergyWebinar 🖥️ pic.twitter.com/cLSv2EYLag 0\n",
      "⚠️NEW COUNTRY ALERT⚠️Thank You to our SUPPORTERS out in #Senegal 🇸🇳 for Tuning in to @nosugarradio DAILY #BlessedWELCOME TO NO SUGAR RADIO❗️💥 Don't miss our MUSIC SHOWS..... at No Sugar Radio WE HAVE THE BEST… instagram.com/p/CApAX7cHsn5/… 0\n",
      "Situation covid-19. 28 mai 2020. #COVID19sn #kebetu #Senegal pic.twitter.com/luMczM8pZW 1\n",
      "🇸🇳 Happy 35th birthday to Senegalese international forward Demba Ba.What is your best memory of the former Chelsea talisman?#Senegal #DembaBa pic.twitter.com/kvQqpVQ9k7 0\n",
      "#Senegal unilaterally cancels its double taxation treaty with #Mauritius, said to have lost it over $250m since beginning in 2004. Reasons may be to protect upcoming oil revenues and the blacklisting of Mauritius over money laundering concerns by the EU. bit.ly/3ep4Npq 0\n",
      "Lowkey Eid celebrations at Rumah Malaysia Dakar. All nec protocols observed. #eidmubarak2020 #Malaysia #Senegal #celebration #makan #KORITE2020 #fete pic.twitter.com/TOvFd4pPIj 1\n",
      "Hear #WorldMusic show the 'Putumayo World Music Hour' just after 9PM (UK) Tuesday.This week we spend time in the West African nation of #Senegal, home to some of the world's most beautiful and melodic music.Listen @ mysterytrainradio.com/listen & @tunein @ tun.in/sfzOd. pic.twitter.com/i0ZVAq0vji 0\n",
      "#africa #AfricaDayBenefitConcert #AfricaDay #AfricaDay2020 #Somalia #Senegal #Ghana #Nigeria #ethiopia #Congo Happy Africa Day ❤️ pic.twitter.com/GPBKgwYMry 0\n",
      ".@CGRTeams (#IndyCar, #NASCAR), @FollowAndretti, and others announce their participation in the all new @ExtremeELive 500+ HP off-road electric race cars tackling the most extreme off road environment beginning January 2021 in #Senegal.  #extremee #electrifyexpo #electrify2020 pic.twitter.com/i0ddqs41x1 0\n",
      "SELLYSenegalese designer Selly Raby Kane and friend in majestic boubous. By Djibril Sy for KaaK Society @SellyRabyKane #djibrilsy #sellyrabykane #africandesigners #africanphotographer #fashion #boubou #swag #dakar #senegal #africa #geneva #afrodyssee pic.twitter.com/8RoN3O7Pvd 0\n",
      "Send #Researchers to Madagascar, #Senegal to study alleged COVID-19 ndreporters.com/2020/05/20/sen… #covid19 1\n",
      "One of the #portraits in my first #LockdownLecture last night 19C actor Ira Aldridge, who was born in #NewYork, but liked to spread rumours that he was a Prince from #Senegal. Thanks so much to all who attended - from all over the world! I’m going to plan more. #WatchThisSpace pic.twitter.com/J1LN9SWEX4 0\n",
      "Medical researchers in #Senegal consider their @raoult_didier as their “big #African brother”. theafricareport.com/26264/coronavi… 0\n",
      "Happy Eid🌙🙏🏾 #senegal #korite pic.twitter.com/lnTiDI34yA 0\n",
      "#Senegal, one of West Africa’s most transprent economies, has torn up its tax treaty with #Mauritius as debate rages over the island tax haven’s impact on developing economies.icij.org/investigations… 0\n",
      "Celebrating #AfricaDay quote from the speech by #LeopoldSedarSenghor of #Senegal made at the founding of the #AfricanUnion on 25th May 1963 Read the full speeches made in 1963 on au.int/en/overview pic.twitter.com/41JEp7bYTQ 0\n",
      "Le partage#part #partage #senegal #instagram #roadtrip #road# #cuisine#instagram #instagram#roadtrip #senegal #traveller#roadtrip#road#voyageur #voyageur#voyage#senegal #lumixgx9#lumix #dakar #Sénégal… instagram.com/p/CAqjNijBfeQ/… 0\n",
      "Amidst the #COVID19 crisis, #Senegal has proved that with #innovation and determination, it is possible to save thousands of lives and dollars.What lessons could States learn from Senegal’s experience?Read our latest article👇🏻bit.ly/2X7qRz4 0\n",
      "SAINT-LOUISThe pictorial photography of Emanuela Teodora Russo #emanuelateodorarusso #saintlouis #senegal #africa #geneva #afrodyssee pic.twitter.com/nf8jvKRRzD 0\n",
      "#Senegal to continue treating #COVID19 patients with hydroxychloroquineqiraatafrican.com/en/new/senegal… pic.twitter.com/uCLkpUa9YP 0\n",
      "Eid Mubarak to all of our brothers and sisters in the world from the team ! 🌙#EidMubarak #Senegal #Mauritania pic.twitter.com/7qylofjWxa 1\n",
      "Wa mais li do dage way 😭😂😂😂I love my country😅😅😅#Senegal pic.twitter.com/mslqNiczep 0\n",
      "Do you need the perfect one week agenda for #Senegal? Check out this overview. buff.ly/3bpeOBC pic.twitter.com/oqE8uBUM8l 0\n",
      "Thank you to Mr.Ibourahima Samate for your kindness and hospitality for invited me on Eid Mubarak celebrations. 🙏🏻Thank you very much.  May Allah bless you and your family. #eidmubarak#senegal#dakar pic.twitter.com/ff9MVRtzKp 0\n",
      "@modou__toure_  creator of  the Senegalese circus company @sencirk_senegal_ portrait for @elpaissemanal #dakar #senegal #dakarlives #kebetu #photography #photojournalism #documentaryphotography #cirque #  #acrobatics #portraiture  #reportagespotlight #p… instagr.am/p/CAuZBkNDcjN/ pic.twitter.com/IcyoQ8iIuU 0\n",
      "We are #Young We are #Africa We are #Proud  Happy #AfricaDay2020 🤎🤎🤎#AfricaDay #AfricaUnite #Senegal 🇸🇳#AdunaLeppTeràngaLa #Kebetu @AU_CIEFFA pic.twitter.com/OW6Wk6IyeH 1\n",
      "Theme of International Day of #Coops this year is climate change #sdg13. The 3rd #ILOCOOP100 Webinar will be on July 3rd 13.30 w/ speakers from #Brazil (WIEGO) #Philippines (CLIMBS), #Belgium (Rescoop.Eu), & #Senegal. sign up 4 it at ilo.org/global/topics/… #IDC2020 pic.twitter.com/Kxi2OBKk18 1\n",
      "Farm fresh fruits from Dakar, Senegal🍌🍎🍅🍉🍍🍏🍌...📷@madamecheesecake...#Africa #MagicalAfrica #Farmfresh #Fruits #Senegal #TravelAfrique pic.twitter.com/mO6eKi9x4h 0\n",
      "Ebola gave #Senegal a structure to navigate the #COVID19 pandemic. Now, the country is a leader in virus response, @NPRGoatsandSoda reports.Read how @UNICEF and @WHO helped Senegal's Health Emergency Operation Center prepare for the pandemic. n.pr/2Xfb7sD 1\n",
      "Africa is such a beautiful continent 😍😍😍. Do you recognize any places?#morroco #zambia #zanzibar #southafrica #nigeria #senegal #malawi #tunisia #namibia #visitafrica #africa #africaday2020 pic.twitter.com/K2B0DHgWIg 1\n",
      "A little bit of beauty in these *complicated* times #Dewenetibis#Senegal #kebetu #TL221 #NouslesSenegalaises #OnestlesPlusSapees 😉@GroupeSonatel twitter.com/Sokhna___/stat… 0\n",
      "Buy masks, stay safe, support Senegalese tailors. bambazal.afrikrea.com#BambaBeauty #DefKoSaYëfuBopp #Senegal #Masks pic.twitter.com/ux1GiB3kG4 0\n",
      "Only 3 months passed but it seems years ago, at evening time in #Bakel #Senegal where everything gets even more energetic when the sun goes down pic.twitter.com/be4fgCAoH7 0\n",
      "#COVIDー19#Cameroon 5044 cases#Senegal 3161 cases#Ethiopia 701 cases twitter.com/AfricaCDC/stat… 1\n",
      "Happy Africa Day! 🌍 May we continue to amplify our ancestor’s hopes, whispers + dreams. #AfricaDay #Fulani #Senegal #Ghana pic.twitter.com/AMfGuMQjlw 0\n",
      "#Senegal Putting your star in green makes a nice change, but it doesn’t make it any more star-like 🇸🇳 pic.twitter.com/b1rmT5gACy 0\n",
      "\"Mbolo moy dolé!” A Senegalese saying meaning ‘unity is strength.’ Join us on Tuesday, May 26, as IFC’s @mamouchkadiop leads a #TwitterChat to discuss how influencers and entrepreneurs in #Senegal and elsewhere are uniting in the fight against #COVID19. #IFCInsightsChat pic.twitter.com/xb82Fj8ejl 1\n",
      "3. HOUSE OF SLAVESIt is located in Dakar, Senegal. It was built in 1962 and curated up until 2006. It was built in memorial of the Atlantic slave trade.#Senegal #AfricaDay Courtesy photo pic.twitter.com/r2TPxUIjW7 0\n",
      "#LicenseFree2wayRadio #Senegal #SRDThe specification of Non-specific Short Range Devices (Include LPD433) in Senegal are as follows; pic.twitter.com/aHDED4ee9W 1\n",
      "TB to our training sessions in agricultural processing w/ Yessal AgriHub.150 women have been trained as part of our empowerment initiatives in #Senegal.For Africa to be a place where all people can prosper, eradication of gender inequality through women empowerment is needed. pic.twitter.com/DK0WHu5rjh 1\n",
      "Mame Biram Diouf 🇸🇳 : \"Happy Eid to all the Ummah. May Allah SWT accept our fasting\"#Kebetu #Senegal #restezchezvous pic.twitter.com/LLaFR1BSxN 1\n",
      "Beast team not gonna lie. #senegal #fifamobile20 #futm pic.twitter.com/rgjsSi8bQB 1\n",
      "On the eve of Korite - Dakar, 2020. #dakar #senegal #madina #korité #ramadan #afpphoto #photojournalism pic.twitter.com/Fl0kq7Psla 1\n",
      "➡️ We call it bennachin➡️ Some call it Theibou Dienne & ➡️ Others call it jollof rice...👌#Bennachin #theiboudienne #jollofrice #gambia #senegal #nigeria #africandish pic.twitter.com/3k45k55EdV 0\n",
      "#photooftheday ! Somewhere in the world: #Senegal pic.twitter.com/BCWjFbIHOf 0\n",
      "Tapis de fitness dlvr.it/RX9C5p #kebetu #dakar #senegal pic.twitter.com/kwiI72RCJG 1\n",
      "Senegal has begun trials for a $1 coronavirus testing kit that gives results in 10 minutes#CoronaVirus #Senegal pic.twitter.com/gj4D1p2nxP 1\n",
      "Four challenges for data sharing highlighted in yesterday's debate: finance, technical constraints, regulatory and incentives. @bayethiernodiop from @baamtusarl the role of these constraints in a country like #Senegal in yesterday's @ITCnews-@CERN event on data sharing. twitter.com/GenevaGIP/stat… 1\n",
      "Did you hear of the $1 #COVID-19 testing kit produced by scientists in #Senegal? Great things happen when we invest in our health systems and in developing solutions that work for us. pic.twitter.com/TkL1r5Uqb1 0\n",
      "Another mission completed. Walo Auto ProMontreal > Dakar 🇨🇦🇸🇳#Senegal pic.twitter.com/FoLaiKZizo 0\n",
      "#AfricaDay2020 falls on #MemorialDay2020. 🙏 all who fought to make today possible &  raise Africa. We remember their sacrifice, our history #CheikhAntaDiop #Senegal #DoualaMangaBell #Cameroun #AmilcarCabral many more. What does today mean to you? @ECA_OFFICIAL @_AfricanUnion 0\n",
      "« #StillOnDeen but the haters be still won’t allow me and they tell music is HARAM but I don’t get my Deen from SAUDI » « Had me thinking the Deen was evil had to #SÉNÉGAL 📍to find my PEOPLE...out in #MedinaBaye 📍so the vybe so live  so vybe so peaceful » pic.twitter.com/l0hh4MsPZl 0\n",
      "We are #Young 💪🏿We are #African 🧔🏿👩🏿We are #Proud 🤝Happy #AfricaDay2020 #AfricaDay#AfricaWeWant#Senegal 🇸🇳#Kebetu@Africanplp@_AfricanUnion We Are #APLP pic.twitter.com/Zskbj6ov70 0\n",
      "Dama redoubler nak, tanggal thiep. Fair play#eidmubarak2020 #EidUlFitr #KORITE2020 #Sunuselfiekorite2020 #Senegal #SunjKoriteh220 pic.twitter.com/wuMmYrzahn 0\n",
      "How’s the weekend treating you? For Mouhamadou (left) and Mame (right), two sponsored children in #Senegal, it just got a little bit better. With help from ChildFund, their families were able to buy food and other essentials they need to survive #COVID19. pic.twitter.com/A7MNqQn43s 0\n",
      "#Algeria is the second African country after #Senegal to produce Coronavirus testing kits that show results in 15 minutes. 0\n",
      "IMF and World Bank provides fiscal  support to #Senegal to fight #COVID-19. Read More: ow.ly/DF4K30qIcrC 0\n",
      "#Meetthewinners of our Digital Innovation Accelerator Programme!🤩 Today we present Team #30 from #Senegal: mJangale@mjangalesenegal➡️mjangale.com#ICT4D #SDGs #innovation #accelerator #EduTech pic.twitter.com/yHXFwLqqzO 0\n",
      "With US$ 48.86m funding from #IsDB's #COVID19 response fund, the Govt. of #Senegal is working to strengthen #COVID19 preparedness, detection and response. The work, in part, focuses on acquiring mobile laboratories & deploying rapid diagnostic tests to remote communities. pic.twitter.com/vI8lkoYr8y 1\n",
      "#Coronavirus test in the #US. can cost hundreds of dollars and take hours, or even days, to process in a lab. But a new test that will be produced in #Senegal Africa will cost around $1—and one version of the test gives results in only 10 minutes. pic.twitter.com/3URTKmlUED 1\n",
      "@Lefroyex hi Lefroyex , we have 2 glod exploration in #Senegal looking for Partners pic.twitter.com/XuYt1nMJPa 0\n",
      "#Senegal is under a State of Emergency due to #COVID19. There’s a curfew from 9pm and 5am. Commercial air transport remains banned. Info: smartraveller.gov.au/Senegal 0\n",
      "Senegalese beauty 🇸🇳🇸🇳🇸🇳🇸🇳#kebetu #Dakar #Senegal pic.twitter.com/wPwHSBSYB8 0\n",
      "Petit shooting pour ma bague 💍 offerte par @adiam____#huawei #vsco #senegal #jardin pic.twitter.com/Qvshs1e2vl 0\n",
      "Olympus E-PM1 dlvr.it/RX1JG3 #kebetu #dakar #senegal pic.twitter.com/JvaO9eDYDO 0\n",
      "@CARE hi Care , please care this people need your help to healthy water . The village is in the north of #Senegal pic.twitter.com/uPUEgKnBxF 1\n",
      "Happy Africa Day from Africa Surf International! #surf #africaday #Senegal pic.twitter.com/7p2U86CXGy 0\n",
      "Read this thread on surgical procedures in Africa not yet in use in Europe in the 19th century.  Knowledge courtesy of @mcndakar Musée des Civilisations Noires in #Senegal senegal twitter.com/kacungira/stat… 0\n",
      "I was surprised to hear that I am being celebrated as one the women making #impact in #media in #Africa. Thank you to everyone who supports me on my journey. I feel grateful to be celebrated amongst women that I admire. I am proud to rep #Senegal. 🇸🇳 medium.com/@mediavillepri… pic.twitter.com/M5TTaMx1Rn 0\n",
      "Aytia niou xéwlou #senegalesetwists #sénégal #dakarbuzz#sénégal #221 #senegalais#galsen #dakar #team221#senegalese #senegalaise#senegal221 #Senegal #Kebetu pic.twitter.com/0gYmhUkmmg 1\n",
      "#AidMubarak from your friendly neighborhood JOC. #interfaith #beshert #Senegal pic.twitter.com/kMmsVIRJRq 1\n",
      "Korite with the Layene Community - Dakar, 2020. #eidmubarak2020 #ramadan #dakar #senegal #ramadan #layene #islam #photojournalism #afp pic.twitter.com/NNBkiS6gF3 0\n",
      "#Algeria is the second African country after #Senegal to produce Coronavirus testing kits that show results in 15 minutes. 0\n",
      "A tale of new hairstyles as African stars head back to training for their respective clubs.#aubameyang #Gabon #sadiomane #Senegal pic.twitter.com/98jYNe0n2L 0\n",
      "Throughout the pandemic, IPPF's Member Association in #Senegal hasn't given up on getting essential services – such as maternal care – to those who need it. Find out how they're achieving that → ow.ly/TDBJ50zNOQn #COVID19impact 0\n",
      "I really appreciate what's done by #Senegal's information professionals, especially @azoubig, for the promotion of LIS, through the HT #bibsen. Popularising processes, collections, developing skills and contributing to flourish the field, is really what Africa needs too. 1\n",
      "#Senegal pledges a bed for every #Coronavirus patient - and their contacts, too.👉 n.pr/2AJBbV1 pic.twitter.com/HGslqwNkU4 0\n",
      "IMF and #World Bank provides fiscal  support to #Senegal to fight #COVID-19. Read More: ow.ly/DF4K30qIcrC 0\n",
      "A Squad. They work out everyday together. Let’s Go!!!! #surfsenegal #senegal #ngor #ateam #squadgoals #surf #training #blackgirlssurf @ Ngor, Dakar instagram.com/p/CAdH3k4nbBh/… 1\n",
      "#Meetthewinners of our Digital Innovation Accelerator Programme! 🤩Today we present Team #29 from #Senegal: DARAL Technologies 🎉 📣#ICT4D #SDGs #innovation #accelerator #tech4good #environmental #ClimateAction pic.twitter.com/BbVqpJZUXQ 0\n",
      "What Covid-19 isputting into our mindsYoutube : youtube.com/watch?v=wpx9G6…#3danimation #blender3d #bamako #b3d #ohmymind #CartoonOfTheDay #Cartoon #africa #Mali #Senegal #Dakar #Covid_19 #COVID19france #Dramaneminta pic.twitter.com/FvIkfFlelc 0\n",
      "Ford Focus 2009 dlvr.it/RX1JGN #kebetu #dakar #senegal pic.twitter.com/8xB8m0xQSg 1\n",
      "First Senegalese KT-1s arrive#Defence #Defenceindustry #Security #Military #Senegal #Aviationdefenceweb.co.za/aerospace/aero… pic.twitter.com/TbZBl6FbuO 0\n",
      "#Meetthewinners of our Digital Innovation Accelerator Programme! 🤩Today we present Team #31 from #Senegal: Colobane 🎉 📣#ICT4D #SDGs #innovation #accelerator #tech4good #environmental #ClimateAction pic.twitter.com/KGMHWAkcaa 0\n",
      "Send #Researchers to Madagascar, #Senegal to study alleged COVID-19 ndreporters.com/2020/05/20/sen… #covid19 0\n",
      "#SocialDistanacing #Social distancing being practised in #Senegal Senegal, West Africa. #eidmubarak2020 #EidUlFitr #Africa #Nigeria #Gambia #RamadanMubarak pic.twitter.com/Mq90AXuAko 0\n",
      "25 mothers of families and heads of households, or 200 people received food kits # bags of rice and big sugar in Bargny, Rufisque department. A donation from the Turkish Red Crescent and the Senegalese Red Cross in favour of poor households #kebetu #senegal pic.twitter.com/d1RI20dALJ 0\n",
      "The #UEFAFoundation: Real-life results in #Senegal! arunfoot.com/the-uefa-found… 0\n"
     ]
    }
   ],
   "source": [
    "with open(\"out.json\",\"r\") as file:\n",
    "    tweets_labels=json.load(file)\n",
    "    for index, tweet in enumerate(tweets_labels[\"labeled_tweets\"][\"tweets\"]):\n",
    "        print(tweets_labels[\"labeled_tweets\"][\"tweets\"][index][\"full_text\"], tweets_labels[\"labeled_tweets\"][\"sentiment_labels\"][index])"
   ]
  },
  {
   "cell_type": "code",
   "execution_count": 4,
   "metadata": {},
   "outputs": [],
   "source": [
    "lines=[]\n",
    "with open(\"../Datasets/Sentiment Analysis Dataset.csv\", \"r\") as file:\n",
    "    for line in file.readlines():\n",
    "        line=line.split(\",\")\n",
    "        line=(ID,sentiment,sentimentSource, sentimentText)=(line[0],line[1], line[2], \",\".join(line[3:]).strip())\n",
    "        lines.append(line)"
   ]
  },
  {
   "cell_type": "code",
   "execution_count": 5,
   "metadata": {},
   "outputs": [
    {
     "name": "stdout",
     "output_type": "stream",
     "text": [
      "[('\\ufeffItemID', 'Sentiment', 'SentimentSource', 'SentimentText'), ('1', '0', 'Sentiment140', 'is so sad for my APL friend.............'), ('2', '0', 'Sentiment140', 'I missed the New Moon trailer...'), ('3', '1', 'Sentiment140', 'omg its already 7:30 :O'), ('4', '0', 'Sentiment140', \".. Omgaga. Im sooo  im gunna CRy. I've been at this dentist since 11.. I was suposed 2 just get a crown put on (30mins)...\"), ('5', '0', 'Sentiment140', 'i think mi bf is cheating on me!!!       T_T'), ('6', '0', 'Sentiment140', 'or i just worry too much?'), ('7', '1', 'Sentiment140', 'Juuuuuuuuuuuuuuuuussssst Chillin!!'), ('8', '0', 'Sentiment140', 'Sunny Again        Work Tomorrow  :-|       TV Tonight'), ('9', '1', 'Sentiment140', 'handed in my uniform today . i miss you already')]\n"
     ]
    }
   ],
   "source": [
    "print(lines[:10])"
   ]
  },
  {
   "cell_type": "code",
   "execution_count": 6,
   "metadata": {},
   "outputs": [],
   "source": [
    "data={\"tweets\":[line[3] for line in lines[1:]],\"labels\":[line[1] for line in lines[1:]]}"
   ]
  },
  {
   "cell_type": "code",
   "execution_count": 2,
   "metadata": {},
   "outputs": [
    {
     "ename": "NameError",
     "evalue": "name 'data' is not defined",
     "output_type": "error",
     "traceback": [
      "\u001b[0;31m---------------------------------------------------------------------------\u001b[0m",
      "\u001b[0;31mNameError\u001b[0m                                 Traceback (most recent call last)",
      "\u001b[0;32m<ipython-input-2-dbd883db58b7>\u001b[0m in \u001b[0;36m<module>\u001b[0;34m\u001b[0m\n\u001b[0;32m----> 1\u001b[0;31m \u001b[0mprint\u001b[0m\u001b[0;34m(\u001b[0m\u001b[0mdata\u001b[0m\u001b[0;34m)\u001b[0m\u001b[0;34m\u001b[0m\u001b[0;34m\u001b[0m\u001b[0m\n\u001b[0m",
      "\u001b[0;31mNameError\u001b[0m: name 'data' is not defined"
     ]
    }
   ],
   "source": [
    "print(data)"
   ]
  },
  {
   "cell_type": "code",
   "execution_count": 7,
   "metadata": {},
   "outputs": [],
   "source": [
    "with open(\"../Datasets/corpus1p5M.json\",\"w\") as file:\n",
    "    json.dump(data,file, indent=4)"
   ]
  },
  {
   "cell_type": "code",
   "execution_count": null,
   "metadata": {},
   "outputs": [],
   "source": []
  }
 ],
 "metadata": {
  "kernelspec": {
   "display_name": "Python 3",
   "language": "python",
   "name": "python3"
  },
  "language_info": {
   "codemirror_mode": {
    "name": "ipython",
    "version": 3
   },
   "file_extension": ".py",
   "mimetype": "text/x-python",
   "name": "python",
   "nbconvert_exporter": "python",
   "pygments_lexer": "ipython3",
   "version": "3.7.4"
  }
 },
 "nbformat": 4,
 "nbformat_minor": 4
}
