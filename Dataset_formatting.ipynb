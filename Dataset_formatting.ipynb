{
 "cells": [
  {
   "cell_type": "code",
   "execution_count": 12,
   "metadata": {},
   "outputs": [],
   "source": [
    "import pandas as pd"
   ]
  },
  {
   "cell_type": "code",
   "execution_count": 13,
   "metadata": {},
   "outputs": [
    {
     "name": "stdout",
     "output_type": "stream",
     "text": [
      "         labels         ids                          date      flag  \\\n",
      "0             0  1467810369  Mon Apr 06 22:19:45 PDT 2009  NO_QUERY   \n",
      "1             0  1467810672  Mon Apr 06 22:19:49 PDT 2009  NO_QUERY   \n",
      "2             0  1467810917  Mon Apr 06 22:19:53 PDT 2009  NO_QUERY   \n",
      "3             0  1467811184  Mon Apr 06 22:19:57 PDT 2009  NO_QUERY   \n",
      "4             0  1467811193  Mon Apr 06 22:19:57 PDT 2009  NO_QUERY   \n",
      "...         ...         ...                           ...       ...   \n",
      "1599995       4  2193601966  Tue Jun 16 08:40:49 PDT 2009  NO_QUERY   \n",
      "1599996       4  2193601969  Tue Jun 16 08:40:49 PDT 2009  NO_QUERY   \n",
      "1599997       4  2193601991  Tue Jun 16 08:40:49 PDT 2009  NO_QUERY   \n",
      "1599998       4  2193602064  Tue Jun 16 08:40:49 PDT 2009  NO_QUERY   \n",
      "1599999       4  2193602129  Tue Jun 16 08:40:50 PDT 2009  NO_QUERY   \n",
      "\n",
      "                    user                                             tweets  \n",
      "0        _TheSpecialOne_  @switchfoot http://twitpic.com/2y1zl - Awww, t...  \n",
      "1          scotthamilton  is upset that he can't update his Facebook by ...  \n",
      "2               mattycus  @Kenichan I dived many times for the ball. Man...  \n",
      "3                ElleCTF    my whole body feels itchy and like its on fire   \n",
      "4                 Karoli  @nationwideclass no, it's not behaving at all....  \n",
      "...                  ...                                                ...  \n",
      "1599995  AmandaMarie1028  Just woke up. Having no school is the best fee...  \n",
      "1599996      TheWDBoards  TheWDB.com - Very cool to hear old Walt interv...  \n",
      "1599997           bpbabe  Are you ready for your MoJo Makeover? Ask me f...  \n",
      "1599998     tinydiamondz  Happy 38th Birthday to my boo of alll time!!! ...  \n",
      "1599999   RyanTrevMorris  happy #charitytuesday @theNSPCC @SparksCharity...  \n",
      "\n",
      "[1600000 rows x 6 columns]\n"
     ]
    }
   ],
   "source": [
    "tweets=None\n",
    "with open(\"../Datasets/training.1600000.processed.noemoticon.csv\",\"r\", encoding = \"ISO-8859-1\") as file:\n",
    "    tweets = pd.read_csv(file, header=None, names=[\"labels\", \"ids\", \"date\", \"flag\", \"user\", \"tweets\"])\n",
    "    print(tweets)"
   ]
  },
  {
   "cell_type": "code",
   "execution_count": 11,
   "metadata": {},
   "outputs": [
    {
     "name": "stdout",
     "output_type": "stream",
     "text": [
      "                                                  tweet  \\\n",
      "0     after working the last two weekends in a row t...   \n",
      "1     earned success is my brand of heroine . i neve...   \n",
      "2      glad to see the laclippers beat the heat lobcity   \n",
      "3     chirs paul is the best pg in da league kyrie i...   \n",
      "4                                   buzzin for twilight   \n",
      "...                                                 ...   \n",
      "1911  rt 3voor12 : wij zijn een nikon d70 kwijt gera...   \n",
      "1912  een statenlid van de pvv dat de andere wang ga...   \n",
      "1913      timodegoeiste haha ala je broer niet komt x v   \n",
      "1914           mereltjeuux wat ben je aant kijken dan ?   \n",
      "1915  ik had eigenlijk tot morgen ping , ik heb nu 1...   \n",
      "\n",
      "                                                    POS language  val class  \n",
      "0     IN VVG DT JJ CD NNS IN DT NN DT NN NP NN VVG R...    en_UK    1   pos  \n",
      "1     VVN NN VBZ PP$ NN IN NN SENT NP RB VVP TO VV R...    en_UK    1   pos  \n",
      "2                          JJ TO VV DT NNS VVP DT NN NN    en_UK    1   pos  \n",
      "3     NNS NN VBZ DT JJS NN IN NN NN NN VBZ VVG RP RB...    en_UK    1   pos  \n",
      "4                                              NN IN NN    en_UK    1   pos  \n",
      "...                                                 ...      ...  ...   ...  \n",
      "1911  adj nounpl $. pronpers verbprespl det__art nou...    nl_NL    0   obj  \n",
      "1912  det__art nounsg prep det__art nounsg conjsubo ...    nl_NL    0   obj  \n",
      "1913  nounsg int nounsg pronpers nounsg adv verbpres...    nl_NL    0   obj  \n",
      "1914  nounsg pronrel verbpressg pronpers adj verbpre...    nl_NL    0   obj  \n",
      "1915  pronpers verbpastsg adj prep nounsg nounsg pun...    nl_NL    0   obj  \n",
      "\n",
      "[1916 rows x 5 columns]\n",
      "                                                    POS class   date  flag  \\\n",
      "0                                                   NaN   NaN  en_UK   1.0   \n",
      "1                                                   NaN   NaN  en_UK   1.0   \n",
      "2                                                   NaN   NaN  en_UK   1.0   \n",
      "3                                                   NaN   NaN  en_UK   1.0   \n",
      "4                                                   NaN   NaN  en_UK   1.0   \n",
      "...                                                 ...   ...    ...   ...   \n",
      "1911  adj nounpl $. pronpers verbprespl det__art nou...   obj    NaN   NaN   \n",
      "1912  det__art nounsg prep det__art nounsg conjsubo ...   obj    NaN   NaN   \n",
      "1913  nounsg int nounsg pronpers nounsg adv verbpres...   obj    NaN   NaN   \n",
      "1914  nounsg pronrel verbpressg pronpers adj verbpre...   obj    NaN   NaN   \n",
      "1915  pronpers verbpastsg adj prep nounsg nounsg pun...   obj    NaN   NaN   \n",
      "\n",
      "                                                    ids  \\\n",
      "0           JJ NN NNS : PP$ NN NN VBZ VVG JJ IN DT NN :   \n",
      "1                  JJ NN : VVG NN IN NN : VV PP RB SENT   \n",
      "2               DT NNS NN NN NN VBZ RB VV VVN TO JJ NNS   \n",
      "3     NN WP VVZ JJ , NP MD VV DT NN SENT IN NN NP VV...   \n",
      "4     NNS , RB NN , VBP RBR JJ IN VVG PP RP IN DT NN...   \n",
      "...                                                 ...   \n",
      "1911                                                NaN   \n",
      "1912                                                NaN   \n",
      "1913                                                NaN   \n",
      "1914                                                NaN   \n",
      "1915                                                NaN   \n",
      "\n",
      "                                                 labels language  \\\n",
      "0     rt brax ying : my girl morganwhit1fly is doing...      NaN   \n",
      "1     rt paulabroadwell : networking tip for today :...      NaN   \n",
      "2     this years john lewis advert is so shit compar...      NaN   \n",
      "3     jodiechadderton what s wrong , i can see the s...      NaN   \n",
      "4     apples , not caffeine , are more efficient at ...      NaN   \n",
      "...                                                 ...      ...   \n",
      "1911                                                NaN    nl_NL   \n",
      "1912                                                NaN    nl_NL   \n",
      "1913                                                NaN    nl_NL   \n",
      "1914                                                NaN    nl_NL   \n",
      "1915                                                NaN    nl_NL   \n",
      "\n",
      "                                                  tweet  tweets user  val  \n",
      "0                                                   NaN     NaN  pos  NaN  \n",
      "1                                                   NaN     NaN  pos  NaN  \n",
      "2                                                   NaN     NaN  pos  NaN  \n",
      "3                                                   NaN     NaN  pos  NaN  \n",
      "4                                                   NaN     NaN  pos  NaN  \n",
      "...                                                 ...     ...  ...  ...  \n",
      "1911  rt 3voor12 : wij zijn een nikon d70 kwijt gera...     NaN  NaN  0.0  \n",
      "1912  een statenlid van de pvv dat de andere wang ga...     NaN  NaN  0.0  \n",
      "1913      timodegoeiste haha ala je broer niet komt x v     NaN  NaN  0.0  \n",
      "1914           mereltjeuux wat ben je aant kijken dan ?     NaN  NaN  0.0  \n",
      "1915  ik had eigenlijk tot morgen ping , ik heb nu 1...     NaN  NaN  0.0  \n",
      "\n",
      "[3157 rows x 11 columns]\n"
     ]
    },
    {
     "name": "stderr",
     "output_type": "stream",
     "text": [
      "/home/vester/anaconda3/lib/python3.7/site-packages/ipykernel_launcher.py:6: FutureWarning: Sorting because non-concatenation axis is not aligned. A future version\n",
      "of pandas will change to not sort by default.\n",
      "\n",
      "To accept the future behavior, pass 'sort=False'.\n",
      "\n",
      "To retain the current behavior and silence the warning, pass 'sort=True'.\n",
      "\n",
      "  \n"
     ]
    }
   ],
   "source": [
    "tweets=None\n",
    "with open(\"../Datasets/newTruth_testSet.csv\",\"r\") as file:\n",
    "    tweets = pd.read_csv(file, header=None, names=[\"tweet\", \"POS\", \"language\", \"val\", \"class\"])\n",
    "    print(tweets)\n",
    "with open(\"../Datasets/newTruth_trainingSet.csv\",\"r\") as file:\n",
    "    tweets = pd.concat([pd.read_csv(file, header=None, names=[\"tweet\", \"POS\", \"language\", \"val\", \"class\"]),tweets])\n",
    "    print(tweets)"
   ]
  },
  {
   "cell_type": "code",
   "execution_count": null,
   "metadata": {},
   "outputs": [],
   "source": [
    "tweets.columns= [\"id\", \"labels\", \"tweets\"]"
   ]
  },
  {
   "cell_type": "code",
   "execution_count": null,
   "metadata": {},
   "outputs": [],
   "source": [
    "tweets=tweets.where(tweets.language==\"en_UK\").dropna()"
   ]
  },
  {
   "cell_type": "code",
   "execution_count": 14,
   "metadata": {},
   "outputs": [],
   "source": [
    "tweet_text, labels=[tweet for tweet in tweets[\"tweets\"]],[la for la in tweets[\"labels\"]]\n",
    "data={\"tweets\":tweet_text,\"labels\":labels}"
   ]
  },
  {
   "cell_type": "code",
   "execution_count": 15,
   "metadata": {},
   "outputs": [],
   "source": [
    "with open(\"../Datasets/corpus1p6M.json\",\"w\") as file:\n",
    "    json.dump(data, file)"
   ]
  },
  {
   "cell_type": "code",
   "execution_count": null,
   "metadata": {},
   "outputs": [],
   "source": [
    "with open(\"../Datasets/corpus.json\",\"w\") as file:\n",
    "    tweets[[\"tweet\", \"label\"]].to_json(file, orient=\"records\")"
   ]
  },
  {
   "cell_type": "code",
   "execution_count": 2,
   "metadata": {},
   "outputs": [],
   "source": [
    "import json"
   ]
  },
  {
   "cell_type": "code",
   "execution_count": null,
   "metadata": {},
   "outputs": [],
   "source": [
    "data=[]\n",
    "with open(\"../Datasets/corpus.json\",\"r\") as file:\n",
    "    data=json.load(file)\n",
    "print(data[:10])"
   ]
  },
  {
   "cell_type": "code",
   "execution_count": null,
   "metadata": {},
   "outputs": [],
   "source": [
    "from covid19_nowcast.streaming.preparation.preprocessor import Preprocessor"
   ]
  },
  {
   "cell_type": "code",
   "execution_count": null,
   "metadata": {},
   "outputs": [],
   "source": [
    "tweets=[elem[\"tweet\"] for elem in data]"
   ]
  },
  {
   "cell_type": "code",
   "execution_count": null,
   "metadata": {},
   "outputs": [],
   "source": [
    "print(tweets[:10])"
   ]
  },
  {
   "cell_type": "code",
   "execution_count": null,
   "metadata": {},
   "outputs": [],
   "source": [
    "%time bow_tweets=Preprocessor.preprocess(tweets)"
   ]
  },
  {
   "cell_type": "code",
   "execution_count": null,
   "metadata": {},
   "outputs": [],
   "source": [
    "print(bow_tweets)"
   ]
  },
  {
   "cell_type": "code",
   "execution_count": null,
   "metadata": {},
   "outputs": [],
   "source": [
    "for index, tweet in enumerate(bow_tweets[\"preprocessed_tweets\"]):\n",
    "    data[index][\"tweet\"]=tweet"
   ]
  },
  {
   "cell_type": "code",
   "execution_count": null,
   "metadata": {},
   "outputs": [],
   "source": [
    "print(data[:10])"
   ]
  },
  {
   "cell_type": "code",
   "execution_count": null,
   "metadata": {},
   "outputs": [],
   "source": [
    "for tweet in data:\n",
    "    tweet[\"tweet\"]={word:True for word in tweet[\"tweet\"]}\n",
    "print(data[:5])"
   ]
  },
  {
   "cell_type": "code",
   "execution_count": null,
   "metadata": {},
   "outputs": [],
   "source": [
    "with open(\"../Datasets/corpus.txt\",\"w\") as file:\n",
    "    file.write(str([(elem[\"tweet\"], elem[\"label\"]) for elem in data]))"
   ]
  },
  {
   "cell_type": "code",
   "execution_count": 16,
   "metadata": {},
   "outputs": [],
   "source": [
    "with open(\"out.json\",\"r\") as file:\n",
    "    tweets_labels=json.load(file)[\"labeled_tweets\"]"
   ]
  },
  {
   "cell_type": "code",
   "execution_count": 18,
   "metadata": {},
   "outputs": [],
   "source": [
    "date_l=[{\"tweet\":tweets_labels[\"tweets\"][index],\"label\":tweets_labels[\"sentiment_labels\"][index]}for index, tweet in enumerate(tweets_labels[\"tweets\"])]"
   ]
  },
  {
   "cell_type": "code",
   "execution_count": 19,
   "metadata": {},
   "outputs": [
    {
     "name": "stdout",
     "output_type": "stream",
     "text": [
      "{'tweet': {'created_at': 'Thu May 21 00:00:00 +0000 2020', 'id_str': '1263440230117408768', 'full_text': \"Why are Africa's success stories in managing Covid being overlooked? Incl #Senegal $1 test, #Ghana 's innovative testing, & #Madagascar early signs of of a treatment. I have some thoughts. My column in today's @guardian theguardian.com/commentisfree/…\", 'user': {'name': 'Afua Hirsch', 'screen_name': 'afuahirsch'}}, 'label': 4}\n",
      "{'tweet': {'created_at': 'Mon May 25 00:00:00 +0000 2020', 'id_str': '1264830845434638337', 'full_text': 'Theme of International Day of #Coops this year is climate change #sdg13. The 3rd #ILOCOOP100 Webinar will be on July 3rd 13.30 w/ speakers from #Brazil (WIEGO) #Philippines (CLIMBS), #Belgium (Rescoop.Eu), & #Senegal. sign up 4 it at ilo.org/global/topics/… #IDC2020 pic.twitter.com/Kxi2OBKk18', 'user': {'name': 'Simel Esim', 'screen_name': 'simcim'}}, 'label': 4}\n",
      "{'tweet': {'created_at': 'Thu May 28 17:43:53 +0000 2020', 'id_str': '1265893659737612288', 'full_text': 'For Mouhamadou of #Senegal, life just got a little bit better. pic.twitter.com/hluf7ic7A1 pic.twitter.com/PrvenMdju6 pic.twitter.com/GD2aHsIC2H', 'user': {'name': 'QuesthugCNBC/KSL/Kelly/Clearchannel📍', 'screen_name': 'QuesthugCNBC'}}, 'label': 4}\n",
      "{'tweet': {'created_at': 'Thu May 28 17:43:53 +0000 2020', 'id_str': '1265885499907964929', 'full_text': 'How’s the week treating you? For Mouhamadou of #Senegal, it just got a little bit better. With help from ChildFund, their families were able to buy food and other essentials they need to survive #COVID19. pic.twitter.com/hluf7ic7A1 pic.twitter.com/PrvenMdju6', 'user': {'name': 'QuesthugCNBC/KSL/Kelly/Clearchannel📍', 'screen_name': 'QuesthugCNBC'}}, 'label': 0}\n",
      "{'tweet': {'created_at': 'Thu May 28 17:43:53 +0000 2020', 'id_str': '1265903351767728132', 'full_text': '#Senegal unilaterally ended its double non-taxation treaty with Mauritius without fanfare. It had previously threatened to cancel the treaty if certain conditions were not met. | @allafricaallafrica.com/view/group/mai…', 'user': {'name': 'CDD West Africa', 'screen_name': 'CDDWestAfrica'}}, 'label': 0}\n",
      "{'tweet': {'created_at': 'Thu May 28 17:43:53 +0000 2020', 'id_str': '1266031143624888321', 'full_text': '🇸🇳 I Miss SENEGAL 🇸🇳 So everyday I try to get closer to home from the taste of our beloved food ❤️🙏🏾#Senegal #Dakar #Food #chefcherif @ Los Angeles, California instagram.com/p/CAvKKvLHyse/…', 'user': {'name': 'Cherif', 'screen_name': 'coachcherif'}}, 'label': 0}\n",
      "{'tweet': {'created_at': 'Thu May 28 17:43:53 +0000 2020', 'id_str': '1265953047181758465', 'full_text': 'SAINT-LOUISThe pictorial photography of Emanuela Teodora Russo #emanuelateodorarusso #saintlouis #senegal #africa #geneva #afrodyssee pic.twitter.com/nf8jvKRRzD', 'user': {'name': 'AFRODYSSÉE', 'screen_name': 'afrodyssee'}}, 'label': 4}\n",
      "{'tweet': {'created_at': 'Thu May 28 17:43:53 +0000 2020', 'id_str': '1265853815892434944', 'full_text': 'Do you need the perfect one week agenda for #Senegal? Check out this overview. buff.ly/3bpeOBC pic.twitter.com/cY1PKvtPXP', 'user': {'name': 'GlobalGaz', 'screen_name': 'Global_Gaz'}}, 'label': 4}\n",
      "{'tweet': {'created_at': 'Sun May 24 00:00:00 +0000 2020', 'id_str': '1264666679679778816', 'full_text': 'RAMADAN MUBARAK (again)May your homes and hearts be filled with joyful spirit of Eid. Laugh, Live, LoveWomen mosquee series#senegal #beautiful #mosquee #eidmubarak2020 #streetphotography #canon pic.twitter.com/JgPCqBUyNJ', 'user': {'name': 'Badara Preira', 'screen_name': 'bdrpreira'}}, 'label': 4}\n",
      "{'tweet': {'created_at': 'Thu May 28 17:43:53 +0000 2020', 'id_str': '1265919479290015745', 'full_text': 'Market Update: Prices of #tomatoes are rising across #Nigeria due to shortages caused by the Tuta Absoluta pest outbreak, which destroyed tomatoes in the Northern region of the country. The outbreak was first reported in #Niger and #Senegal. pic.twitter.com/RaBawSDtSi', 'user': {'name': 'Tridge', 'screen_name': 'TridgeGlobal'}}, 'label': 0}\n",
      "{'tweet': {'created_at': 'Tue May 26 00:00:00 +0000 2020', 'id_str': '1265259022476771329', 'full_text': 'IMF and World Bank provides fiscal support  to #Senegal to fight #COVID-19. Read more: ow.ly/oNtH30qIliT', 'user': {'name': 'africafdi', 'screen_name': 'africafdi'}}, 'label': 0}\n",
      "{'tweet': {'created_at': 'Wed May 20 00:00:00 +0000 2020', 'id_str': '1263001531835510785', 'full_text': \"Let's see who can answer this correctly. Which of these is a language most widely spoken in #Senegal ? 🇸🇳A: WolofB: AfrikaansC: Swahili#DHLDelivers #QuickQuiz #WeKnowAfrica #WestAfrica pic.twitter.com/MrQDmHqw2l\", 'user': {'name': 'DHL Africa', 'screen_name': 'DHLAfrica'}}, 'label': 4}\n",
      "{'tweet': {'created_at': 'Thu May 28 17:43:53 +0000 2020', 'id_str': '1265967739535069190', 'full_text': 'Situation covid-19. 28 mai 2020. #COVID19sn #kebetu #Senegal pic.twitter.com/luMczM8pZW', 'user': {'name': 'EasyStats', 'screen_name': 'stats_easy'}}, 'label': 0}\n",
      "{'tweet': {'created_at': 'Tue May 26 00:00:00 +0000 2020', 'id_str': '1265496247428960257', 'full_text': 'Everytime I plant a seed,he say kill it before it grow, he say kill it before they grow. #senegal #male pic.twitter.com/8hDuuP1jzt', 'user': {'name': 'Katrina Perez', 'screen_name': 'Katrina99487527'}}, 'label': 0}\n",
      "{'tweet': {'created_at': 'Tue May 26 00:00:00 +0000 2020', 'id_str': '1265193872218443781', 'full_text': '#africa #AfricaDayBenefitConcert #AfricaDay #AfricaDay2020 #Somalia #Senegal #Ghana #Nigeria #ethiopia #Congo Happy Africa Day ❤️ pic.twitter.com/GPBKgwYMry', 'user': {'name': 'Abdirahman', 'screen_name': 'abdirahmanmodel'}}, 'label': 4}\n",
      "{'tweet': {'created_at': 'Mon May 25 00:00:00 +0000 2020', 'id_str': '1265165183174848516', 'full_text': \"⚠️NEW COUNTRY ALERT⚠️Thank You to our SUPPORTERS out in #Senegal 🇸🇳 for Tuning in to @nosugarradio DAILY #BlessedWELCOME TO NO SUGAR RADIO❗️💥 Don't miss our MUSIC SHOWS..... at No Sugar Radio WE HAVE THE BEST… instagram.com/p/CApAX7cHsn5/…\", 'user': {'name': 'No Sugar Radio', 'screen_name': 'Nosugarradio'}}, 'label': 4}\n",
      "{'tweet': {'created_at': 'Tue May 26 00:00:00 +0000 2020', 'id_str': '1265383299431698432', 'full_text': 'Lowkey Eid celebrations at Rumah Malaysia Dakar. All nec protocols observed. #eidmubarak2020 #Malaysia #Senegal #celebration #makan #KORITE2020 #fete pic.twitter.com/TOvFd4pPIj', 'user': {'name': 'Malawakil Dakar', 'screen_name': 'MYEmbDakar'}}, 'label': 4}\n",
      "{'tweet': {'created_at': 'Tue May 26 00:00:00 +0000 2020', 'id_str': '1265291759883517953', 'full_text': '#AfDataCube @Data4SDGs shows changes in #mangroves in the Southern #Senegal in Fig. 2 @OpenDataCube Results compare with @gfoi_forest Fig 3 @Csesenegal#earthobservation for #SDGs pic.twitter.com/Brmqksvy1g', 'user': {'name': 'Ken Mubea', 'screen_name': 'kenmubea'}}, 'label': 4}\n",
      "{'tweet': {'created_at': 'Thu May 28 17:43:53 +0000 2020', 'id_str': '1265880606916980737', 'full_text': 'Farm fresh fruits from Dakar, Senegal🍌🍎🍅🍉🍍🍏🍌...📷@madamecheesecake...#Africa #MagicalAfrica #Farmfresh #Fruits #Senegal #TravelAfrique pic.twitter.com/mO6eKi9x4h', 'user': {'name': 'Afrikan Phoenix', 'screen_name': 'AfrikanPhoenix'}}, 'label': 4}\n",
      "{'tweet': {'created_at': 'Thu May 28 17:43:53 +0000 2020', 'id_str': '1265735782498787329', 'full_text': \"Ebola gave #Senegal a structure to navigate the #COVID19 pandemic. Now, the country is a leader in virus response, @NPRGoatsandSoda reports.Read how @UNICEF and @WHO helped Senegal's Health Emergency Operation Center prepare for the pandemic. n.pr/2Xfb7sD\", 'user': {'name': 'InterAction', 'screen_name': 'InterActionOrg'}}, 'label': 0}\n",
      "{'tweet': {'created_at': 'Thu May 28 17:43:53 +0000 2020', 'id_str': '1265729833121783812', 'full_text': 'Africa is such a beautiful continent 😍😍😍. Do you recognize any places?#morroco #zambia #zanzibar #southafrica #nigeria #senegal #malawi #tunisia #namibia #visitafrica #africa #africaday2020 pic.twitter.com/K2B0DHgWIg', 'user': {'name': 'Omobolaji Olayiwola', 'screen_name': 'Olubijay'}}, 'label': 0}\n",
      "{'tweet': {'created_at': 'Thu May 28 17:43:53 +0000 2020', 'id_str': '1265688658524409858', 'full_text': 'Wa mais li do dage way 😭😂😂😂I love my country😅😅😅#Senegal pic.twitter.com/mslqNiczep', 'user': {'name': 'valar morghulis🇸🇳🕊', 'screen_name': 'elhadjiDiiop'}}, 'label': 4}\n",
      "{'tweet': {'created_at': 'Thu May 28 17:43:53 +0000 2020', 'id_str': '1265681468866678785', 'full_text': 'A little bit of beauty in these *complicated* times #Dewenetibis#Senegal #kebetu #TL221 #NouslesSenegalaises #OnestlesPlusSapees 😉@GroupeSonatel twitter.com/Sokhna___/stat…', 'user': {'name': 'Aminata Kane', 'screen_name': 'aminatakn'}}, 'label': 0}\n",
      "{'tweet': {'created_at': 'Thu May 28 17:43:53 +0000 2020', 'id_str': '1265679320493838342', 'full_text': 'Buy masks, stay safe, support Senegalese tailors. bambazal.afrikrea.com#BambaBeauty #DefKoSaYëfuBopp #Senegal #Masks pic.twitter.com/ux1GiB3kG4', 'user': {'name': 'Ziev Kahane', 'screen_name': 'ZievK'}}, 'label': 4}\n",
      "{'tweet': {'created_at': 'Wed May 27 00:00:00 +0000 2020', 'id_str': '1265627563029921792', 'full_text': 'Only 3 months passed but it seems years ago, at evening time in #Bakel #Senegal where everything gets even more energetic when the sun goes down pic.twitter.com/be4fgCAoH7', 'user': {'name': 'Guia Gilardoni', 'screen_name': 'GuiaGilardoni'}}, 'label': 0}\n",
      "{'tweet': {'created_at': 'Tue May 26 00:00:00 +0000 2020', 'id_str': '1265244356048453633', 'full_text': 'Happy Eid🌙🙏🏾 #senegal #korite pic.twitter.com/lnTiDI34yA', 'user': {'name': 'Papa Seyni DIEYE💯', 'screen_name': 'dieye_seyni'}}, 'label': 4}\n",
      "{'tweet': {'created_at': 'Mon May 25 00:00:00 +0000 2020', 'id_str': '1265107735521173504', 'full_text': 'Happy Africa Day! 🌍 May we continue to amplify our ancestor’s hopes, whispers + dreams. #AfricaDay #Fulani #Senegal #Ghana pic.twitter.com/AMfGuMQjlw', 'user': {'name': '𝕱𝖆𝖙𝖎𝖒𝖆 𝕭. 𝕯𝖎𝖆𝖑𝖑𝖔', 'screen_name': 'Afriqueendom'}}, 'label': 4}\n",
      "{'tweet': {'created_at': 'Mon May 25 00:00:00 +0000 2020', 'id_str': '1265010637391962115', 'full_text': '#Senegal Putting your star in green makes a nice change, but it doesn’t make it any more star-like 🇸🇳 pic.twitter.com/b1rmT5gACy', 'user': {'name': 'Disappointing Lego Flags', 'screen_name': 'LegoFlags'}}, 'label': 4}\n",
      "{'tweet': {'created_at': 'Mon May 25 00:00:00 +0000 2020', 'id_str': '1264953474233643013', 'full_text': '\"Mbolo moy dolé!” A Senegalese saying meaning ‘unity is strength.’ Join us on Tuesday, May 26, as IFC’s @mamouchkadiop leads a #TwitterChat to discuss how influencers and entrepreneurs in #Senegal and elsewhere are uniting in the fight against #COVID19. #IFCInsightsChat pic.twitter.com/xb82Fj8ejl', 'user': {'name': 'IFC', 'screen_name': 'IFC_org'}}, 'label': 4}\n",
      "{'tweet': {'created_at': 'Mon May 25 00:00:00 +0000 2020', 'id_str': '1264916850162401280', 'full_text': '🇸🇳 Happy 35th birthday to Senegalese international forward Demba Ba.What is your best memory of the former Chelsea talisman?#Senegal #DembaBa pic.twitter.com/kvQqpVQ9k7', 'user': {'name': 'AfricanFootball360', 'screen_name': 'AFootball360'}}, 'label': 4}\n",
      "{'tweet': {'created_at': 'Mon May 25 00:00:00 +0000 2020', 'id_str': '1264900272209293313', 'full_text': 'Celebrating #AfricaDay quote from the speech by #LeopoldSedarSenghor of\\xa0#Senegal\\xa0made at the founding of the #AfricanUnion on 25th\\xa0May 1963\\xa0Read the full speeches made in 1963 on\\xa0au.int/en/overview pic.twitter.com/41JEp7bYTQ', 'user': {'name': 'African Union', 'screen_name': '_AfricanUnion'}}, 'label': 4}\n",
      "{'tweet': {'created_at': 'Mon May 25 00:00:00 +0000 2020', 'id_str': '1264845174502354944', 'full_text': '#LicenseFree2wayRadio #Senegal #SRDThe specification of Non-specific Short Range Devices (Include LPD433) in Senegal are as follows; pic.twitter.com/aHDED4ee9W', 'user': {'name': 'Kagaya,Yasuo', 'screen_name': 'KagayaYasuo'}}, 'label': 0}\n",
      "{'tweet': {'created_at': 'Sun May 24 00:00:00 +0000 2020', 'id_str': '1264677691007041544', 'full_text': 'TB to our training sessions in agricultural processing w/ Yessal AgriHub.150 women have been trained as part of our empowerment initiatives in #Senegal.For Africa to be a place where all people can prosper, eradication of gender inequality through women empowerment is needed. pic.twitter.com/DK0WHu5rjh', 'user': {'name': 'OCP AFRICA', 'screen_name': 'OCP_Africa'}}, 'label': 4}\n",
      "{'tweet': {'created_at': 'Sun May 24 00:00:00 +0000 2020', 'id_str': '1264656617431277569', 'full_text': 'Mame Biram Diouf 🇸🇳 : \"Happy Eid to all the Ummah. May Allah SWT accept our fasting\"#Kebetu #Senegal #restezchezvous pic.twitter.com/LLaFR1BSxN', 'user': {'name': 'Le journal de Dakar', 'screen_name': 'JournaldeDakar'}}, 'label': 4}\n",
      "{'tweet': {'created_at': 'Sun May 24 00:00:00 +0000 2020', 'id_str': '1264534271181459456', 'full_text': 'Beast team not gonna lie. #senegal #fifamobile20 #futm pic.twitter.com/rgjsSi8bQB', 'user': {'name': 'Jkoerr (LSG GAMING)', 'screen_name': 'LSGGaming_'}}, 'label': 4}\n",
      "{'tweet': {'created_at': 'Sat May 23 00:00:00 +0000 2020', 'id_str': '1264273001589112836', 'full_text': 'On the eve of Korite - Dakar, 2020. #dakar #senegal #madina #korité #ramadan #afpphoto #photojournalism pic.twitter.com/Fl0kq7Psla', 'user': {'name': 'John Wessels', 'screen_name': 'wesselsjohn1'}}, 'label': 4}\n",
      "{'tweet': {'created_at': 'Fri May 22 00:00:00 +0000 2020', 'id_str': '1263948044019666945', 'full_text': '➡️ We call it bennachin➡️ Some call it Theibou Dienne & ➡️ Others call it jollof rice...👌#Bennachin #theiboudienne #jollofrice #gambia #senegal #nigeria #africandish pic.twitter.com/3k45k55EdV', 'user': {'name': 'Saikes Jaria', 'screen_name': 'SaikesJ'}}, 'label': 0}\n",
      "{'tweet': {'created_at': 'Fri May 22 00:00:00 +0000 2020', 'id_str': '1263902244069662731', 'full_text': '#photooftheday ! Somewhere in the world: #Senegal pic.twitter.com/BCWjFbIHOf', 'user': {'name': 'big njoogu', 'screen_name': 'big_njoogu'}}, 'label': 4}\n",
      "{'tweet': {'created_at': 'Fri May 22 00:00:00 +0000 2020', 'id_str': '1263861819635990528', 'full_text': 'Tapis de fitness dlvr.it/RX9C5p #kebetu #dakar #senegal pic.twitter.com/kwiI72RCJG', 'user': {'name': 'dakarvente', 'screen_name': 'dakarvente'}}, 'label': 4}\n",
      "{'tweet': {'created_at': 'Fri May 22 00:00:00 +0000 2020', 'id_str': '1263763460195848193', 'full_text': 'Senegal has begun trials for a $1 coronavirus testing kit that gives results in 10 minutes#CoronaVirus #Senegal pic.twitter.com/gj4D1p2nxP', 'user': {'name': 'Povo News', 'screen_name': 'povonewstv'}}, 'label': 0}\n",
      "{'tweet': {'created_at': 'Tue May 26 00:00:00 +0000 2020', 'id_str': '1265536030754639872', 'full_text': \"Four challenges for data sharing highlighted in yesterday's debate: finance, technical constraints, regulatory and incentives. @bayethiernodiop from @baamtusarl the role of these constraints in a country like #Senegal in yesterday's @ITCnews-@CERN event on data sharing. twitter.com/GenevaGIP/stat…\", 'user': {'name': 'Marion Jansen', 'screen_name': 'MJansenEcon'}}, 'label': 4}\n",
      "{'tweet': {'created_at': 'Tue May 26 00:00:00 +0000 2020', 'id_str': '1265374341614776321', 'full_text': '#COVIDー19#Cameroon 5044 cases#Senegal 3161 cases#Ethiopia 701 cases twitter.com/AfricaCDC/stat…', 'user': {'name': 'Armelle Nyobe', 'screen_name': 'ArmelleNyobe'}}, 'label': 0}\n",
      "{'tweet': {'created_at': 'Tue May 26 00:00:00 +0000 2020', 'id_str': '1265185495891554305', 'full_text': 'Did you hear of the $1 #COVID-19 testing kit produced by scientists in #Senegal? Great things happen when we invest in our health systems and in developing solutions that work for us. pic.twitter.com/TkL1r5Uqb1', 'user': {'name': 'Engage Africa Fdt', 'screen_name': 'EngageAfricaFdt'}}, 'label': 4}\n",
      "{'tweet': {'created_at': 'Mon May 25 00:00:00 +0000 2020', 'id_str': '1265037108860854272', 'full_text': '#AfricaDay2020 falls on #MemorialDay2020. 🙏 all who fought to make today possible &  raise Africa. We remember their sacrifice, our history #CheikhAntaDiop #Senegal #DoualaMangaBell #Cameroun #AmilcarCabral many more. What does today mean to you? @ECA_OFFICIAL @_AfricanUnion', 'user': {'name': 'Dr. Vera Songwe', 'screen_name': 'SongweVera'}}, 'label': 0}\n",
      "{'tweet': {'created_at': 'Mon May 25 00:00:00 +0000 2020', 'id_str': '1264901548511055873', 'full_text': '3. HOUSE OF SLAVESIt is located in Dakar, Senegal. It was built in 1962 and curated up until 2006. It was built in memorial of the Atlantic slave trade.#Senegal #AfricaDay Courtesy photo pic.twitter.com/r2TPxUIjW7', 'user': {'name': 'The African Exposé', 'screen_name': 'TheAfricaExpose'}}, 'label': 0}\n",
      "{'tweet': {'created_at': 'Mon May 25 00:00:00 +0000 2020', 'id_str': '1264881475008282626', 'full_text': 'We are #Young 💪🏿We are #African 🧔🏿👩🏿We are #Proud 🤝Happy #AfricaDay2020\\xa0#AfricaDay#AfricaWeWant#Senegal 🇸🇳#Kebetu@Africanplp@_AfricanUnion We Are #APLP pic.twitter.com/Zskbj6ov70', 'user': {'name': 'Alioune Badara', 'screen_name': 'albadaradi'}}, 'label': 4}\n",
      "{'tweet': {'created_at': 'Sun May 24 00:00:00 +0000 2020', 'id_str': '1264748318552395776', 'full_text': 'Dama redoubler nak, tanggal thiep. Fair play#eidmubarak2020 #EidUlFitr #KORITE2020 #Sunuselfiekorite2020 #Senegal #SunjKoriteh220 pic.twitter.com/wuMmYrzahn', 'user': {'name': \"l'Artiste\", 'screen_name': 'diama_photo'}}, 'label': 0}\n",
      "{'tweet': {'created_at': 'Sun May 24 00:00:00 +0000 2020', 'id_str': '1264654985905819648', 'full_text': 'Thank you to Mr.Ibourahima Samate for your kindness and hospitality for invited me on Eid Mubarak celebrations. 🙏🏻Thank you very much.  May Allah bless you and your family. #eidmubarak#senegal#dakar pic.twitter.com/ff9MVRtzKp', 'user': {'name': 'Seorang Daddy', 'screen_name': 'WNIdiWestAfrica'}}, 'label': 4}\n",
      "{'tweet': {'created_at': 'Sun May 24 00:00:00 +0000 2020', 'id_str': '1264541975920943104', 'full_text': 'How’s the weekend treating you? For Mouhamadou (left) and Mame (right), two sponsored children in #Senegal, it just got a little bit better. With help from ChildFund, their families were able to buy food and other essentials they need to survive #COVID19. pic.twitter.com/A7MNqQn43s', 'user': {'name': 'ChildFund', 'screen_name': 'ChildFund'}}, 'label': 0}\n",
      "{'tweet': {'created_at': 'Fri May 22 00:00:00 +0000 2020', 'id_str': '1264028871663501317', 'full_text': '#Algeria is the second African country after #Senegal to produce Coronavirus testing kits that show results in 15 minutes.', 'user': {'name': 'Yussuf Billow', 'screen_name': 'billow_jr'}}, 'label': 4}\n",
      "{'tweet': {'created_at': 'Fri May 22 00:00:00 +0000 2020', 'id_str': '1263809488542486528', 'full_text': 'IMF and World Bank provides fiscal  support to #Senegal to fight #COVID-19. Read More: ow.ly/DF4K30qIcrC', 'user': {'name': 'africafdi', 'screen_name': 'africafdi'}}, 'label': 0}\n",
      "{'tweet': {'created_at': 'Fri May 22 00:00:00 +0000 2020', 'id_str': '1263741385741676544', 'full_text': '#Meetthewinners of our Digital Innovation Accelerator Programme!🤩 Today we present Team #30 from #Senegal: mJangale@mjangalesenegal➡️mjangale.com#ICT4D #SDGs #innovation #accelerator #EduTech pic.twitter.com/yHXFwLqqzO', 'user': {'name': 'Innovation Factory', 'screen_name': 'Innovation_Fcty'}}, 'label': 4}\n",
      "{'tweet': {'created_at': 'Thu May 21 00:00:00 +0000 2020', 'id_str': '1263532233727631361', 'full_text': \"With US$ 48.86m funding from #IsDB's #COVID19 response fund, the Govt. of #Senegal is working to strengthen #COVID19 preparedness, detection and response. The work, in part, focuses on acquiring mobile laboratories & deploying rapid diagnostic tests to remote communities. pic.twitter.com/vI8lkoYr8y\", 'user': {'name': 'OIC', 'screen_name': 'OIC_OCI'}}, 'label': 0}\n",
      "{'tweet': {'created_at': 'Wed May 20 00:00:00 +0000 2020', 'id_str': '1263358929045684224', 'full_text': '@Lefroyex hi Lefroyex , we have 2 glod exploration in #Senegal looking for Partners pic.twitter.com/XuYt1nMJPa', 'user': {'name': 'Souleymane Sowe', 'screen_name': 'Sodemines'}}, 'label': 4}\n",
      "{'tweet': {'created_at': 'Wed May 20 00:00:00 +0000 2020', 'id_str': '1263341153983664133', 'full_text': '#Senegal is under a State of Emergency due to #COVID19. There’s a curfew from 9pm and 5am. Commercial air transport remains banned. Info: smartraveller.gov.au/Senegal', 'user': {'name': 'Smartraveller', 'screen_name': 'Smartraveller'}}, 'label': 0}\n",
      "{'tweet': {'created_at': 'Wed May 20 00:00:00 +0000 2020', 'id_str': '1263247864311971840', 'full_text': 'Senegalese beauty 🇸🇳🇸🇳🇸🇳🇸🇳#kebetu #Dakar #Senegal pic.twitter.com/wPwHSBSYB8', 'user': {'name': 'Badaraphotography🧡🧡', 'screen_name': 'badarabcmid'}}, 'label': 4}\n",
      "{'tweet': {'created_at': 'Wed May 20 00:00:00 +0000 2020', 'id_str': '1263237826570620928', 'full_text': 'Petit shooting pour ma bague 💍 offerte par @adiam____#huawei #vsco #senegal #jardin pic.twitter.com/Qvshs1e2vl', 'user': {'name': 'Badara Preira', 'screen_name': 'bdrpreira'}}, 'label': 4}\n",
      "{'tweet': {'created_at': 'Wed May 20 00:00:00 +0000 2020', 'id_str': '1263084709233299457', 'full_text': 'Olympus E-PM1 dlvr.it/RX1JG3 #kebetu #dakar #senegal pic.twitter.com/JvaO9eDYDO', 'user': {'name': 'dakarvente', 'screen_name': 'dakarvente'}}, 'label': 0}\n",
      "{'tweet': {'created_at': 'Tue May 19 00:00:00 +0000 2020', 'id_str': '1262988529044520961', 'full_text': '@CARE hi Care , please care this people need your help to healthy water . The village is in the north of #Senegal pic.twitter.com/uPUEgKnBxF', 'user': {'name': 'Souleymane Sowe', 'screen_name': 'Sodemines'}}, 'label': 4}\n",
      "{'tweet': {'created_at': 'Tue May 26 00:00:00 +0000 2020', 'id_str': '1265279466588135426', 'full_text': 'nside the mind of a raciste.youtu.be/clgDdTa4vaM#notoracism #cartoon #3danimation #bamako #world #africa #ohmymind #Blender3d #dakar #africa #ohmymind #Blender #CartoonOfTheDay #Dramaneminta #MarvelAtHome #Funny #Senegal #violence #FIFA #3dart #3d #animation #cg #cgart pic.twitter.com/invxfuhGA5', 'user': {'name': 'Oh My Mind', 'screen_name': 'OhMyMind4'}}, 'label': 4}\n",
      "{'tweet': {'created_at': 'Tue May 26 00:00:00 +0000 2020', 'id_str': '1265208105207582720', 'full_text': 'Jean Paul is an #entrepreneur in #Senegal and, in spite of #COVID19, he has found new opportunities to tap into: bit.ly/2TCnAp8 pic.twitter.com/LMnZcN43Nv', 'user': {'name': 'L-IFT', 'screen_name': 'lift_bv'}}, 'label': 4}\n",
      "{'tweet': {'created_at': 'Mon May 25 00:00:00 +0000 2020', 'id_str': '1265173777542836224', 'full_text': 'Send #Researchers to Madagascar, #Senegal to study alleged COVID-19 ndreporters.com/2020/05/20/sen… #covid19', 'user': {'name': 'ndreporters.com', 'screen_name': 'nd_reporters'}}, 'label': 4}\n",
      "{'tweet': {'created_at': 'Mon May 25 00:00:00 +0000 2020', 'id_str': '1264918590563799040', 'full_text': 'Read this thread on surgical procedures in Africa not yet in use in Europe in the 19th century.  Knowledge courtesy of @mcndakar Musée des Civilisations Noires in #Senegal senegal twitter.com/kacungira/stat…', 'user': {'name': 'Richard Danziger', 'screen_name': 'RDanzigerIOM'}}, 'label': 4}\n",
      "{'tweet': {'created_at': 'Mon May 25 00:00:00 +0000 2020', 'id_str': '1264901646674518017', 'full_text': 'I was surprised to hear that I am being celebrated as one the women making #impact in #media in #Africa. Thank you to everyone who supports me on my journey. I feel grateful to be celebrated amongst women that I admire. I am proud to rep #Senegal. 🇸🇳 medium.com/@mediavillepri… pic.twitter.com/M5TTaMx1Rn', 'user': {'name': 'Lehlé Balde 🇸🇳', 'screen_name': 'lehlelalumiere'}}, 'label': 4}\n",
      "{'tweet': {'created_at': 'Mon May 25 00:00:00 +0000 2020', 'id_str': '1264897891782610944', 'full_text': '«\\xa0#StillOnDeen but the haters be still won’t allow me and they tell music is HARAM but I don’t get my Deen from SAUDI\\xa0» «\\xa0Had me thinking the Deen was evil had to #SÉNÉGAL 📍to find my PEOPLE...out in #MedinaBaye 📍so the vybe so live  so vybe so peaceful\\xa0» pic.twitter.com/l0hh4MsPZl', 'user': {'name': 'GORA DIAGNE BARHAMA🤴🏾', 'screen_name': 'GoraDiagne23'}}, 'label': 0}\n",
      "{'tweet': {'created_at': 'Mon May 25 00:00:00 +0000 2020', 'id_str': '1264877571319234565', 'full_text': 'We are #Young We are #Africa We are #Proud  Happy #AfricaDay2020 \\U0001f90e\\U0001f90e\\U0001f90e#AfricaDay #AfricaUnite #Senegal 🇸🇳#AdunaLeppTeràngaLa #Kebetu @AU_CIEFFA pic.twitter.com/OW6Wk6IyeH', 'user': {'name': 'Dior Birima - Teranga', 'screen_name': 'DiorBirima'}}, 'label': 4}\n",
      "{'tweet': {'created_at': 'Sun May 24 00:00:00 +0000 2020', 'id_str': '1264540607201959937', 'full_text': '#AidMubarak from your friendly neighborhood JOC. #interfaith #beshert #Senegal pic.twitter.com/kMmsVIRJRq', 'user': {'name': 'April N. Baskin 🕊', 'screen_name': 'JoyousJustice'}}, 'label': 4}\n",
      "{'tweet': {'created_at': 'Sun May 24 00:00:00 +0000 2020', 'id_str': '1264518211787264000', 'full_text': 'Korite with the Layene Community - Dakar, 2020. #eidmubarak2020 #ramadan #dakar #senegal #ramadan #layene #islam #photojournalism #afp pic.twitter.com/NNBkiS6gF3', 'user': {'name': 'John Wessels', 'screen_name': 'wesselsjohn1'}}, 'label': 4}\n",
      "{'tweet': {'created_at': 'Sat May 23 00:00:00 +0000 2020', 'id_str': '1264131306964860929', 'full_text': '#Algeria is the second African country after #Senegal to produce Coronavirus testing kits that show results in 15 minutes.', 'user': {'name': 'AFRICA-IS-OUR-BUSINESS', 'screen_name': 'united_africa2'}}, 'label': 4}\n",
      "{'tweet': {'created_at': 'Fri May 22 00:00:00 +0000 2020', 'id_str': '1263895416564785157', 'full_text': 'A tale of new hairstyles as African stars head back to training for their respective clubs.#aubameyang #Gabon #sadiomane #Senegal pic.twitter.com/98jYNe0n2L', 'user': {'name': 'AfricanFootball360', 'screen_name': 'AFootball360'}}, 'label': 4}\n",
      "{'tweet': {'created_at': 'Fri May 22 00:00:00 +0000 2020', 'id_str': '1263785677805756416', 'full_text': '#Senegal pledges a bed for every #Coronavirus patient - and their contacts, too.👉 n.pr/2AJBbV1 pic.twitter.com/HGslqwNkU4', 'user': {'name': 'Royal Society of Tropical Medicine and Hygiene', 'screen_name': 'RSTMH'}}, 'label': 4}\n",
      "{'tweet': {'created_at': 'Thu May 21 00:00:00 +0000 2020', 'id_str': '1263496062024790017', 'full_text': 'IMF and #World Bank provides fiscal  support to #Senegal to fight #COVID-19. Read More: ow.ly/DF4K30qIcrC', 'user': {'name': 'africafdi', 'screen_name': 'africafdi'}}, 'label': 0}\n",
      "{'tweet': {'created_at': 'Thu May 21 00:00:00 +0000 2020', 'id_str': '1263482935593730048', 'full_text': '#Coronavirus test in the #US. can cost hundreds of dollars and take hours, or even days, to process in a lab. But a new test that will be produced in #Senegal Africa will cost around $1—and one version of the test gives results in only 10 minutes. pic.twitter.com/3URTKmlUED', 'user': {'name': 'TheAfroNews-TAN', 'screen_name': 'TheAfroNews'}}, 'label': 0}\n",
      "{'tweet': {'created_at': 'Thu May 21 00:00:00 +0000 2020', 'id_str': '1263386549065887745', 'full_text': '#Meetthewinners of our Digital Innovation Accelerator Programme! 🤩Today we present Team #29 from #Senegal: DARAL Technologies 🎉 📣#ICT4D #SDGs #innovation #accelerator #tech4good #environmental #ClimateAction pic.twitter.com/BbVqpJZUXQ', 'user': {'name': 'Innovation Factory', 'screen_name': 'Innovation_Fcty'}}, 'label': 4}\n",
      "{'tweet': {'created_at': 'Wed May 20 00:00:00 +0000 2020', 'id_str': '1263140168690778113', 'full_text': 'What Covid-19 isputting into our mindsYoutube : youtube.com/watch?v=wpx9G6…#3danimation #blender3d #bamako #b3d #ohmymind #CartoonOfTheDay #Cartoon #africa #Mali #Senegal #Dakar #Covid_19 #COVID19france #Dramaneminta pic.twitter.com/FvIkfFlelc', 'user': {'name': 'Oh My Mind', 'screen_name': 'OhMyMind4'}}, 'label': 4}\n",
      "{'tweet': {'created_at': 'Wed May 20 00:00:00 +0000 2020', 'id_str': '1263084713129857025', 'full_text': 'Ford Focus 2009 dlvr.it/RX1JGN #kebetu #dakar #senegal pic.twitter.com/8xB8m0xQSg', 'user': {'name': 'dakarvente', 'screen_name': 'dakarvente'}}, 'label': 4}\n",
      "{'tweet': {'created_at': 'Wed May 20 00:00:00 +0000 2020', 'id_str': '1263079962921381888', 'full_text': 'First Senegalese KT-1s arrive#Defence #Defenceindustry #Security #Military #Senegal #Aviationdefenceweb.co.za/aerospace/aero… pic.twitter.com/TbZBl6FbuO', 'user': {'name': 'defenceWeb', 'screen_name': 'defenceWeb_Afr'}}, 'label': 4}\n",
      "{'tweet': {'created_at': 'Mon May 25 00:00:00 +0000 2020', 'id_str': '1265078470863880197', 'full_text': 'Another mission completed. Walo Auto ProMontreal > Dakar 🇨🇦🇸🇳#Senegal pic.twitter.com/FoLaiKZizo', 'user': {'name': 'ArtemisiaAnnua🌿🍃', 'screen_name': 'DiopSaer11'}}, 'label': 4}\n",
      "{'tweet': {'created_at': 'Mon May 25 00:00:00 +0000 2020', 'id_str': '1264991740894695424', 'full_text': 'Happy Africa Day from Africa Surf International! #surf #africaday #Senegal pic.twitter.com/7p2U86CXGy', 'user': {'name': 'Africa Surf Intl', 'screen_name': 'africasurfintl'}}, 'label': 4}\n",
      "{'tweet': {'created_at': 'Mon May 25 00:00:00 +0000 2020', 'id_str': '1264828552895180802', 'full_text': '#Meetthewinners of our Digital Innovation Accelerator Programme! 🤩Today we present Team #31 from #Senegal: Colobane 🎉 📣#ICT4D #SDGs #innovation #accelerator #tech4good #environmental #ClimateAction pic.twitter.com/KGMHWAkcaa', 'user': {'name': 'Innovation Factory', 'screen_name': 'Innovation_Fcty'}}, 'label': 4}\n",
      "{'tweet': {'created_at': 'Sun May 24 00:00:00 +0000 2020', 'id_str': '1264811318554456067', 'full_text': 'Send #Researchers to Madagascar, #Senegal to study alleged COVID-19 ndreporters.com/2020/05/20/sen… #covid19', 'user': {'name': 'ndreporters.com', 'screen_name': 'nd_reporters'}}, 'label': 4}\n",
      "{'tweet': {'created_at': 'Sun May 24 00:00:00 +0000 2020', 'id_str': '1264614444879011840', 'full_text': 'Aytia niou xéwlou #senegalesetwists #sénégal #dakarbuzz#sénégal #221 #senegalais#galsen #dakar #team221#senegalese #senegalaise#senegal221 #Senegal #Kebetu pic.twitter.com/0gYmhUkmmg', 'user': {'name': 'Capitaine Galsen🇸🇳', 'screen_name': 'CapitaineGalsen'}}, 'label': 4}\n",
      "{'tweet': {'created_at': 'Sun May 24 00:00:00 +0000 2020', 'id_str': '1264600077642932224', 'full_text': '#SocialDistanacing #Social distancing being practised in #Senegal Senegal, West Africa. #eidmubarak2020 #EidUlFitr #Africa #Nigeria #Gambia #RamadanMubarak pic.twitter.com/Mq90AXuAko', 'user': {'name': 'NyamakoroSilla', 'screen_name': 'toubuya'}}, 'label': 0}\n",
      "{'tweet': {'created_at': 'Sat May 23 00:00:00 +0000 2020', 'id_str': '1264164438216708096', 'full_text': 'The #UEFAFoundation: Real-life results in #Senegal! arunfoot.com/the-uefa-found…', 'user': {'name': 'Arunava Chaudhuri', 'screen_name': 'Arunfoot'}}, 'label': 0}\n",
      "{'tweet': {'created_at': 'Fri May 22 00:00:00 +0000 2020', 'id_str': '1263881111207378947', 'full_text': \"Throughout the pandemic, IPPF's Member Association in #Senegal hasn't given up on getting essential services – such as maternal care – to those who need it. Find out how they're achieving that → ow.ly/TDBJ50zNOQn #COVID19impact\", 'user': {'name': 'IPPF Global', 'screen_name': 'ippf'}}, 'label': 0}\n",
      "{'tweet': {'created_at': 'Fri May 22 00:00:00 +0000 2020', 'id_str': '1263876740742512640', 'full_text': \"I really appreciate what's done by #Senegal's information professionals, especially @azoubig, for the promotion of LIS, through the HT #bibsen. Popularising processes, collections, developing skills and contributing to flourish the field, is really what Africa needs too.\", 'user': {'name': \"Jabea la Ndol'a Tiki 🇨🇲\", 'screen_name': 'JtNdolo'}}, 'label': 4}\n",
      "{'tweet': {'created_at': 'Fri May 22 00:00:00 +0000 2020', 'id_str': '1263794302901194753', 'full_text': 'IMF and World Bank provides fiscal support to #Senegal to fight #COVID-19. Read More: ow.ly/DF4K30qIcrC', 'user': {'name': 'investmedical', 'screen_name': 'investmedical'}}, 'label': 0}\n",
      "{'tweet': {'created_at': 'Thu May 21 00:00:00 +0000 2020', 'id_str': '1263724264349470721', 'full_text': 'A very good question: Why are Africa’s coronavirus successes being overlooked? #COVIDー19 #coronavirus #Africa #Senegal #Ghanatheguardian.com/commentisfree/…', 'user': {'name': 'Anu Juvonen', 'screen_name': 'AnuJuvonen'}}, 'label': 4}\n",
      "{'tweet': {'created_at': 'Thu May 21 00:00:00 +0000 2020', 'id_str': '1263492820263821312', 'full_text': 'A Squad. They work out everyday together. Let’s Go!!!! #surfsenegal #senegal #ngor #ateam #squadgoals #surf #training #blackgirlssurf @ Ngor, Dakar instagram.com/p/CAdH3k4nbBh/…', 'user': {'name': '#BlackGirlsSurf', 'screen_name': 'blackgirlssurf'}}, 'label': 0}\n",
      "{'tweet': {'created_at': 'Tue May 19 00:00:00 +0000 2020', 'id_str': '1262946305334181889', 'full_text': 'Yallna niou yall fayal SERIGNE BABACAR 🥰❤️. #Senegal #TFM #qgtfm', 'user': {'name': 'samba diaw', 'screen_name': 'sambajaaw'}}, 'label': 0}\n",
      "{'tweet': {'created_at': 'Sun May 24 00:00:00 +0000 2020', 'id_str': '1264697509764632576', 'full_text': 'Amen @Macky_Sall @FayeSallMarieme @badatour4 #Rtt #kebetu #Senegal #ndeyefatoutoure', 'user': {'name': 'Ndèye Name DIOUF- GOD IS ONE', 'screen_name': 'binoussou'}}, 'label': 4}\n",
      "{'tweet': {'created_at': 'Sun May 24 00:00:00 +0000 2020', 'id_str': '1264691805200801793', 'full_text': 'Eid Mubarak to all of our brothers and sisters in the world from the team ! 🌙#EidMubarak #Senegal #Mauritania pic.twitter.com/7qylofjWxa', 'user': {'name': 'iMullar', 'screen_name': 'TheiMullar'}}, 'label': 4}\n",
      "{'tweet': {'created_at': 'Sat May 23 00:00:00 +0000 2020', 'id_str': '1264325111848603648', 'full_text': '25 mothers of families and heads of households, or 200 people received food kits # bags of rice and big sugar in Bargny, Rufisque department. A donation from the Turkish Red Crescent and the Senegalese Red Cross in favour of poor households #kebetu #senegal pic.twitter.com/d1RI20dALJ', 'user': {'name': 'Croix-Rouge sénégalaise', 'screen_name': 'CSenegalaise'}}, 'label': 4}\n",
      "{'tweet': {'created_at': 'Sat May 23 00:00:00 +0000 2020', 'id_str': '1264141544854040576', 'full_text': 'IMF and World Bank provides fiscal support to #Senegal to fight #COVID-19. Read more: ow.ly/oNtH30qIliT', 'user': {'name': 'investmedical', 'screen_name': 'investmedical'}}, 'label': 0}\n",
      "{'tweet': {'created_at': 'Fri May 22 00:00:00 +0000 2020', 'id_str': '1263980883553337344', 'full_text': 'Send #Researchers to Madagascar, #Senegal to study alleged COVID-19 ndreporters.com/2020/05/20/sen… #covid19', 'user': {'name': 'ndreporters.com', 'screen_name': 'nd_reporters'}}, 'label': 4}\n",
      "{'tweet': {'created_at': 'Fri May 22 00:00:00 +0000 2020', 'id_str': '1263893674771038210', 'full_text': 'What can we learn from #Senegal and #Ghana\\'s methods to address #Covid-19? Planning, \"pool testing\" of blood and more. Read here: ow.ly/Kcej50zNBW6', 'user': {'name': 'LIDC', 'screen_name': 'LIDC_UK'}}, 'label': 0}\n",
      "{'tweet': {'created_at': 'Fri May 22 00:00:00 +0000 2020', 'id_str': '1263870193895452672', 'full_text': '#Benin vs #Senegal | #AFCON2019 🏆 #PES2020 Penalty ShootoutWatch Link : bit.ly/2WSGES4 pic.twitter.com/087YKT5CkH', 'user': {'name': 'Viral Content', 'screen_name': 'ViralContent12'}}, 'label': 4}\n",
      "{'tweet': {'created_at': 'Fri May 22 00:00:00 +0000 2020', 'id_str': '1263800353331478531', 'full_text': 'Good news out of #Africa. @afuahirsch explains the effective response to #Covid_19 in #Senegal and #Ghana. But economic challenges remain - listen to @royafrisoc webinar: m.mixcloud.com/royafrisoc/web… theguardian.com/commentisfree/…', 'user': {'name': 'Nick Westcott', 'screen_name': 'NickWestcottRAS'}}, 'label': 4}\n",
      "{'tweet': {'created_at': 'Wed May 20 00:00:00 +0000 2020', 'id_str': '1263228043117633542', 'full_text': 'This looks like Goat shit 💩 moulded together😫#Senegal #Covid_19 #jalango twitter.com/AfricaFactsZon…', 'user': {'name': 'Captain Jack Sparrow 🇳🇬', 'screen_name': 'Jenkky_2fit'}}, 'label': 0}\n",
      "{'tweet': {'created_at': 'Wed May 20 00:00:00 +0000 2020', 'id_str': '1263152507070459909', 'full_text': '#Meetthewinners of our Digital Innovation Accelerator Programme!🤩 Today we present Team #28 from #Senegal: Mousso Africa@AfricaMousso➡️mousso.africa/home/#ICT4D #SDGs #innovation #accelerator #genderequality pic.twitter.com/Ee9p4eFPfZ', 'user': {'name': 'Innovation Factory', 'screen_name': 'Innovation_Fcty'}}, 'label': 4}\n"
     ]
    }
   ],
   "source": [
    "for tweet in date_l:\n",
    "    print(tweet)"
   ]
  },
  {
   "cell_type": "code",
   "execution_count": null,
   "metadata": {},
   "outputs": [],
   "source": [
    "with open(\"out.json\",\"r\") as file:\n",
    "    tweets_labels=json.load(file)\n",
    "    for index, tweet in enumerate(tweets_labels[\"labeled_tweets\"][\"tweets\"]):\n",
    "        print(tweets_labels[\"labeled_tweets\"][\"tweets\"][index][\"full_text\"], tweets_labels[\"labeled_tweets\"][\"sentiment_labels\"][index])"
   ]
  },
  {
   "cell_type": "code",
   "execution_count": 4,
   "metadata": {},
   "outputs": [],
   "source": [
    "lines=[]\n",
    "with open(\"../Datasets/Sentiment Analysis Dataset.csv\", \"r\") as file:\n",
    "    for line in file.readlines():\n",
    "        line=line.split(\",\")\n",
    "        line=(ID,sentiment,sentimentSource, sentimentText)=(line[0],line[1], line[2], \",\".join(line[3:]).strip())\n",
    "        lines.append(line)"
   ]
  },
  {
   "cell_type": "code",
   "execution_count": 5,
   "metadata": {},
   "outputs": [
    {
     "name": "stdout",
     "output_type": "stream",
     "text": [
      "[('\\ufeffItemID', 'Sentiment', 'SentimentSource', 'SentimentText'), ('1', '0', 'Sentiment140', 'is so sad for my APL friend.............'), ('2', '0', 'Sentiment140', 'I missed the New Moon trailer...'), ('3', '1', 'Sentiment140', 'omg its already 7:30 :O'), ('4', '0', 'Sentiment140', \".. Omgaga. Im sooo  im gunna CRy. I've been at this dentist since 11.. I was suposed 2 just get a crown put on (30mins)...\"), ('5', '0', 'Sentiment140', 'i think mi bf is cheating on me!!!       T_T'), ('6', '0', 'Sentiment140', 'or i just worry too much?'), ('7', '1', 'Sentiment140', 'Juuuuuuuuuuuuuuuuussssst Chillin!!'), ('8', '0', 'Sentiment140', 'Sunny Again        Work Tomorrow  :-|       TV Tonight'), ('9', '1', 'Sentiment140', 'handed in my uniform today . i miss you already')]\n"
     ]
    }
   ],
   "source": [
    "print(lines[:10])"
   ]
  },
  {
   "cell_type": "code",
   "execution_count": 6,
   "metadata": {},
   "outputs": [],
   "source": [
    "data={\"tweets\":[line[3] for line in lines[1:]],\"labels\":[line[1] for line in lines[1:]]}"
   ]
  },
  {
   "cell_type": "code",
   "execution_count": 2,
   "metadata": {},
   "outputs": [
    {
     "ename": "NameError",
     "evalue": "name 'data' is not defined",
     "output_type": "error",
     "traceback": [
      "\u001b[0;31m---------------------------------------------------------------------------\u001b[0m",
      "\u001b[0;31mNameError\u001b[0m                                 Traceback (most recent call last)",
      "\u001b[0;32m<ipython-input-2-dbd883db58b7>\u001b[0m in \u001b[0;36m<module>\u001b[0;34m\u001b[0m\n\u001b[0;32m----> 1\u001b[0;31m \u001b[0mprint\u001b[0m\u001b[0;34m(\u001b[0m\u001b[0mdata\u001b[0m\u001b[0;34m)\u001b[0m\u001b[0;34m\u001b[0m\u001b[0;34m\u001b[0m\u001b[0m\n\u001b[0m",
      "\u001b[0;31mNameError\u001b[0m: name 'data' is not defined"
     ]
    }
   ],
   "source": [
    "print(data)"
   ]
  },
  {
   "cell_type": "code",
   "execution_count": 3,
   "metadata": {},
   "outputs": [
    {
     "ename": "NameError",
     "evalue": "name 'data' is not defined",
     "output_type": "error",
     "traceback": [
      "\u001b[0;31m---------------------------------------------------------------------------\u001b[0m",
      "\u001b[0;31mNameError\u001b[0m                                 Traceback (most recent call last)",
      "\u001b[0;32m<ipython-input-3-6f5fbacafa6a>\u001b[0m in \u001b[0;36m<module>\u001b[0;34m\u001b[0m\n\u001b[1;32m      1\u001b[0m \u001b[0;32mwith\u001b[0m \u001b[0mopen\u001b[0m\u001b[0;34m(\u001b[0m\u001b[0;34m\"../Datasets/corpus1p6M.json\"\u001b[0m\u001b[0;34m,\u001b[0m\u001b[0;34m\"w\"\u001b[0m\u001b[0;34m)\u001b[0m \u001b[0;32mas\u001b[0m \u001b[0mfile\u001b[0m\u001b[0;34m:\u001b[0m\u001b[0;34m\u001b[0m\u001b[0;34m\u001b[0m\u001b[0m\n\u001b[0;32m----> 2\u001b[0;31m     \u001b[0mjson\u001b[0m\u001b[0;34m.\u001b[0m\u001b[0mdump\u001b[0m\u001b[0;34m(\u001b[0m\u001b[0mdata\u001b[0m\u001b[0;34m,\u001b[0m\u001b[0mfile\u001b[0m\u001b[0;34m,\u001b[0m \u001b[0mindent\u001b[0m\u001b[0;34m=\u001b[0m\u001b[0;36m4\u001b[0m\u001b[0;34m)\u001b[0m\u001b[0;34m\u001b[0m\u001b[0;34m\u001b[0m\u001b[0m\n\u001b[0m",
      "\u001b[0;31mNameError\u001b[0m: name 'data' is not defined"
     ]
    }
   ],
   "source": [
    "with open(\"../Datasets/corpus1p6M.json\",\"w\") as file:\n",
    "    json.dump(data,file, indent=4)"
   ]
  },
  {
   "cell_type": "code",
   "execution_count": null,
   "metadata": {},
   "outputs": [],
   "source": []
  }
 ],
 "metadata": {
  "kernelspec": {
   "display_name": "Python 3",
   "language": "python",
   "name": "python3"
  },
  "language_info": {
   "codemirror_mode": {
    "name": "ipython",
    "version": 3
   },
   "file_extension": ".py",
   "mimetype": "text/x-python",
   "name": "python",
   "nbconvert_exporter": "python",
   "pygments_lexer": "ipython3",
   "version": "3.7.4"
  }
 },
 "nbformat": 4,
 "nbformat_minor": 4
}
